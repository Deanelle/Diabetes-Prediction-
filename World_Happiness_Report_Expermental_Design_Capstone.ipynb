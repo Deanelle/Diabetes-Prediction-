{
  "nbformat": 4,
  "nbformat_minor": 0,
  "metadata": {
    "colab": {
      "name": "World Happiness Report Expermental Design Capstone.ipynb",
      "provenance": [],
      "authorship_tag": "ABX9TyM/QmBNJMw+Edq1zmwB3kQO",
      "include_colab_link": true
    },
    "kernelspec": {
      "name": "python3",
      "display_name": "Python 3"
    },
    "language_info": {
      "name": "python"
    }
  },
  "cells": [
    {
      "cell_type": "markdown",
      "metadata": {
        "id": "view-in-github",
        "colab_type": "text"
      },
      "source": [
        "<a href=\"https://colab.research.google.com/github/Deanelle/World-Happiness-Statistical-Analysis-/blob/main/World_Happiness_Report_Expermental_Design_Capstone.ipynb\" target=\"_parent\"><img src=\"https://colab.research.google.com/assets/colab-badge.svg\" alt=\"Open In Colab\"/></a>"
      ]
    },
    {
      "cell_type": "markdown",
      "metadata": {
        "id": "YsiRYfaDJNmi"
      },
      "source": [
        "**Introduction** \n",
        "\n",
        "---\n",
        "\n",
        "\n",
        "The World Happiness Report up to 2020 is an interesting survey that looks at the state of worldwide happiness of 153 nations. \n",
        "\n",
        "Happiness is vital to living a long, prosperous life and I would like to focus on how social support plays a role in  healthy life expectancy because of how important it is for people to have a sense of belonging and camaraderie. \n"
      ]
    },
    {
      "cell_type": "markdown",
      "metadata": {
        "id": "pBQCsGqBJXYY"
      },
      "source": [
        "**Hypothesis**\n",
        "\n",
        "---\n",
        "\n",
        "H_o: There is no statistically significant correlation between social support and healthy life expectancy in population. \n",
        "\n",
        "H_a: There is statistically significant correlation between social support and healthy life expectancy in population."
      ]
    },
    {
      "cell_type": "markdown",
      "metadata": {
        "id": "tG_fPrmqJf2u"
      },
      "source": [
        "**Data**\n",
        "\n",
        "---\n",
        "\n",
        "The joy scores and rankings utilize information from the Gallup World Survey. The scores are based on answers to the most life evaluation addresses inquired within the survey. This address, known as the Cantril step, asks respondents to think of a step with the most excellent conceivable life for them being a 10 and the most exceedingly bad conceivable life being a 0 and to rate their  current lives on that scale. \n",
        "The columns taking after the bliss score assess the degree to which each of six variables – financial generation, social support, healthy life expectacion, flexibility, nonattendance of debasement, and liberality – contribute to making life assessments higher in each nation than they are in what would be considered a Dystopia. \n",
        "This file contains the Happiness Score for 153 countries and looks holistically at the other scores that influence that score which provides insights into what these countries are currently doing or need to do to help increase the happiness of its citizens. \n",
        "The Happiness Score is explained by the following factors: GDP per capita,  Healthy Life Expectancy, Social support, Freedom to make life choices, Generosity, Corruption Perception\n",
        "The data comes from: \n",
        "https://www.kaggle.com/mathurinache/world-happiness-report?select=2020.csv\n"
      ]
    },
    {
      "cell_type": "code",
      "metadata": {
        "colab": {
          "base_uri": "https://localhost:8080/",
          "height": 1000
        },
        "id": "Bb_EO8VWu5GO",
        "outputId": "c594bc44-c664-4905-8a9b-b6fc84615927"
      },
      "source": [
        "# Set up environment\n",
        "\n",
        "import math\n",
        "import pandas as pd\n",
        "import numpy as np\n",
        "from scipy import stats\n",
        "import matplotlib.pyplot as plt\n",
        "import seaborn as sns \n",
        "sns.set()\n",
        "\n",
        "happiness = pd.read_csv('2020.csv')\n",
        "\n",
        "# Convert column headers to lower case for ease of coding\n",
        "\n",
        "happiness.columns = happiness.columns.str.lower()\n",
        "\n",
        "print(happiness)\n",
        "happiness.info()\n",
        "happiness.head()"
      ],
      "execution_count": null,
      "outputs": [
        {
          "output_type": "stream",
          "text": [
            "                 country name  ... dystopia + residual\n",
            "0                     Finland  ...            2.762835\n",
            "1                     Denmark  ...            2.432741\n",
            "2                 Switzerland  ...            2.350267\n",
            "3                     Iceland  ...            2.460688\n",
            "4                      Norway  ...            2.168266\n",
            "..                        ...  ...                 ...\n",
            "148  Central African Republic  ...            2.860198\n",
            "149                    Rwanda  ...            0.548445\n",
            "150                  Zimbabwe  ...            0.841031\n",
            "151               South Sudan  ...            1.378751\n",
            "152               Afghanistan  ...            1.507236\n",
            "\n",
            "[153 rows x 20 columns]\n",
            "<class 'pandas.core.frame.DataFrame'>\n",
            "RangeIndex: 153 entries, 0 to 152\n",
            "Data columns (total 20 columns):\n",
            " #   Column                                      Non-Null Count  Dtype  \n",
            "---  ------                                      --------------  -----  \n",
            " 0   country name                                153 non-null    object \n",
            " 1   regional indicator                          153 non-null    object \n",
            " 2   ladder score                                153 non-null    float64\n",
            " 3   standard error of ladder score              153 non-null    float64\n",
            " 4   upperwhisker                                153 non-null    float64\n",
            " 5   lowerwhisker                                153 non-null    float64\n",
            " 6   logged gdp per capita                       153 non-null    float64\n",
            " 7   social support                              153 non-null    float64\n",
            " 8   healthy life expectancy                     153 non-null    float64\n",
            " 9   freedom to make life choices                153 non-null    float64\n",
            " 10  generosity                                  153 non-null    float64\n",
            " 11  perceptions of corruption                   153 non-null    float64\n",
            " 12  ladder score in dystopia                    153 non-null    float64\n",
            " 13  explained by: log gdp per capita            153 non-null    float64\n",
            " 14  explained by: social support                153 non-null    float64\n",
            " 15  explained by: healthy life expectancy       153 non-null    float64\n",
            " 16  explained by: freedom to make life choices  153 non-null    float64\n",
            " 17  explained by: generosity                    153 non-null    float64\n",
            " 18  explained by: perceptions of corruption     153 non-null    float64\n",
            " 19  dystopia + residual                         153 non-null    float64\n",
            "dtypes: float64(18), object(2)\n",
            "memory usage: 24.0+ KB\n"
          ],
          "name": "stdout"
        },
        {
          "output_type": "execute_result",
          "data": {
            "text/html": [
              "<div>\n",
              "<style scoped>\n",
              "    .dataframe tbody tr th:only-of-type {\n",
              "        vertical-align: middle;\n",
              "    }\n",
              "\n",
              "    .dataframe tbody tr th {\n",
              "        vertical-align: top;\n",
              "    }\n",
              "\n",
              "    .dataframe thead th {\n",
              "        text-align: right;\n",
              "    }\n",
              "</style>\n",
              "<table border=\"1\" class=\"dataframe\">\n",
              "  <thead>\n",
              "    <tr style=\"text-align: right;\">\n",
              "      <th></th>\n",
              "      <th>country name</th>\n",
              "      <th>regional indicator</th>\n",
              "      <th>ladder score</th>\n",
              "      <th>standard error of ladder score</th>\n",
              "      <th>upperwhisker</th>\n",
              "      <th>lowerwhisker</th>\n",
              "      <th>logged gdp per capita</th>\n",
              "      <th>social support</th>\n",
              "      <th>healthy life expectancy</th>\n",
              "      <th>freedom to make life choices</th>\n",
              "      <th>generosity</th>\n",
              "      <th>perceptions of corruption</th>\n",
              "      <th>ladder score in dystopia</th>\n",
              "      <th>explained by: log gdp per capita</th>\n",
              "      <th>explained by: social support</th>\n",
              "      <th>explained by: healthy life expectancy</th>\n",
              "      <th>explained by: freedom to make life choices</th>\n",
              "      <th>explained by: generosity</th>\n",
              "      <th>explained by: perceptions of corruption</th>\n",
              "      <th>dystopia + residual</th>\n",
              "    </tr>\n",
              "  </thead>\n",
              "  <tbody>\n",
              "    <tr>\n",
              "      <th>0</th>\n",
              "      <td>Finland</td>\n",
              "      <td>Western Europe</td>\n",
              "      <td>7.8087</td>\n",
              "      <td>0.031156</td>\n",
              "      <td>7.869766</td>\n",
              "      <td>7.747634</td>\n",
              "      <td>10.639267</td>\n",
              "      <td>0.954330</td>\n",
              "      <td>71.900825</td>\n",
              "      <td>0.949172</td>\n",
              "      <td>-0.059482</td>\n",
              "      <td>0.195445</td>\n",
              "      <td>1.972317</td>\n",
              "      <td>1.285190</td>\n",
              "      <td>1.499526</td>\n",
              "      <td>0.961271</td>\n",
              "      <td>0.662317</td>\n",
              "      <td>0.159670</td>\n",
              "      <td>0.477857</td>\n",
              "      <td>2.762835</td>\n",
              "    </tr>\n",
              "    <tr>\n",
              "      <th>1</th>\n",
              "      <td>Denmark</td>\n",
              "      <td>Western Europe</td>\n",
              "      <td>7.6456</td>\n",
              "      <td>0.033492</td>\n",
              "      <td>7.711245</td>\n",
              "      <td>7.579955</td>\n",
              "      <td>10.774001</td>\n",
              "      <td>0.955991</td>\n",
              "      <td>72.402504</td>\n",
              "      <td>0.951444</td>\n",
              "      <td>0.066202</td>\n",
              "      <td>0.168489</td>\n",
              "      <td>1.972317</td>\n",
              "      <td>1.326949</td>\n",
              "      <td>1.503449</td>\n",
              "      <td>0.979333</td>\n",
              "      <td>0.665040</td>\n",
              "      <td>0.242793</td>\n",
              "      <td>0.495260</td>\n",
              "      <td>2.432741</td>\n",
              "    </tr>\n",
              "    <tr>\n",
              "      <th>2</th>\n",
              "      <td>Switzerland</td>\n",
              "      <td>Western Europe</td>\n",
              "      <td>7.5599</td>\n",
              "      <td>0.035014</td>\n",
              "      <td>7.628528</td>\n",
              "      <td>7.491272</td>\n",
              "      <td>10.979933</td>\n",
              "      <td>0.942847</td>\n",
              "      <td>74.102448</td>\n",
              "      <td>0.921337</td>\n",
              "      <td>0.105911</td>\n",
              "      <td>0.303728</td>\n",
              "      <td>1.972317</td>\n",
              "      <td>1.390774</td>\n",
              "      <td>1.472403</td>\n",
              "      <td>1.040533</td>\n",
              "      <td>0.628954</td>\n",
              "      <td>0.269056</td>\n",
              "      <td>0.407946</td>\n",
              "      <td>2.350267</td>\n",
              "    </tr>\n",
              "    <tr>\n",
              "      <th>3</th>\n",
              "      <td>Iceland</td>\n",
              "      <td>Western Europe</td>\n",
              "      <td>7.5045</td>\n",
              "      <td>0.059616</td>\n",
              "      <td>7.621347</td>\n",
              "      <td>7.387653</td>\n",
              "      <td>10.772559</td>\n",
              "      <td>0.974670</td>\n",
              "      <td>73.000000</td>\n",
              "      <td>0.948892</td>\n",
              "      <td>0.246944</td>\n",
              "      <td>0.711710</td>\n",
              "      <td>1.972317</td>\n",
              "      <td>1.326502</td>\n",
              "      <td>1.547567</td>\n",
              "      <td>1.000843</td>\n",
              "      <td>0.661981</td>\n",
              "      <td>0.362330</td>\n",
              "      <td>0.144541</td>\n",
              "      <td>2.460688</td>\n",
              "    </tr>\n",
              "    <tr>\n",
              "      <th>4</th>\n",
              "      <td>Norway</td>\n",
              "      <td>Western Europe</td>\n",
              "      <td>7.4880</td>\n",
              "      <td>0.034837</td>\n",
              "      <td>7.556281</td>\n",
              "      <td>7.419719</td>\n",
              "      <td>11.087804</td>\n",
              "      <td>0.952487</td>\n",
              "      <td>73.200783</td>\n",
              "      <td>0.955750</td>\n",
              "      <td>0.134533</td>\n",
              "      <td>0.263218</td>\n",
              "      <td>1.972317</td>\n",
              "      <td>1.424207</td>\n",
              "      <td>1.495173</td>\n",
              "      <td>1.008072</td>\n",
              "      <td>0.670201</td>\n",
              "      <td>0.287985</td>\n",
              "      <td>0.434101</td>\n",
              "      <td>2.168266</td>\n",
              "    </tr>\n",
              "  </tbody>\n",
              "</table>\n",
              "</div>"
            ],
            "text/plain": [
              "  country name  ... dystopia + residual\n",
              "0      Finland  ...            2.762835\n",
              "1      Denmark  ...            2.432741\n",
              "2  Switzerland  ...            2.350267\n",
              "3      Iceland  ...            2.460688\n",
              "4       Norway  ...            2.168266\n",
              "\n",
              "[5 rows x 20 columns]"
            ]
          },
          "metadata": {
            "tags": []
          },
          "execution_count": 6
        }
      ]
    },
    {
      "cell_type": "markdown",
      "metadata": {
        "id": "mfLuLd-tJvui"
      },
      "source": [
        "**Research Design**\n",
        "\n",
        "---\n",
        "\n",
        "\n",
        "For this analysis, I will create two DataFrames, one containing all records for social support  and another for healthy life expectancy. \n",
        "I will conduct a Pearson correlation test to measure the strength and direction of the  relationship between the two variables, health life expectancy and social support. \n"
      ]
    },
    {
      "cell_type": "code",
      "metadata": {
        "colab": {
          "base_uri": "https://localhost:8080/",
          "height": 265
        },
        "id": "vd4_n1ltyfgG",
        "outputId": "f3e4a61e-5b47-44e1-93cb-3ef4c9b0e14e"
      },
      "source": [
        "#plot the histograms\n",
        "\n",
        "plt.hist(happiness['social support'], alpha = .5)\n",
        "plt.show()\n",
        "\n"
      ],
      "execution_count": null,
      "outputs": [
        {
          "output_type": "display_data",
          "data": {
            "image/png": "[encoded data removed]",
            "text/plain": [
              "<Figure size 432x288 with 1 Axes>"
            ]
          },
          "metadata": {
            "tags": [],
            "needs_background": "light"
          }
        }
      ]
    },
    {
      "cell_type": "code",
      "metadata": {
        "colab": {
          "base_uri": "https://localhost:8080/",
          "height": 265
        },
        "id": "kI7xej_O0a_d",
        "outputId": "28c2d9c6-12d1-4e7d-a154-aa398b25db27"
      },
      "source": [
        "plt.hist(happiness['healthy life expectancy'], alpha = .5)\n",
        "plt.show()"
      ],
      "execution_count": null,
      "outputs": [
        {
          "output_type": "display_data",
          "data": {
            "image/png": "[encoded data removed]",
            "text/plain": [
              "<Figure size 432x288 with 1 Axes>"
            ]
          },
          "metadata": {
            "tags": [],
            "needs_background": "light"
          }
        }
      ]
    },
    {
      "cell_type": "code",
      "metadata": {
        "colab": {
          "base_uri": "https://localhost:8080/",
          "height": 322
        },
        "id": "7ffOMEnG9SHB",
        "outputId": "90d8ab59-ab27-4f1f-ec5c-aed64226125d"
      },
      "source": [
        "plt.hist(happiness['social support'], alpha = .5)\n",
        "plt.hist(happiness['healthy life expectancy'], alpha = .5)\n",
        "plt.show()\n",
        "\n",
        "print(stats.describe(happiness['social support']))\n",
        "print(stats.describe(happiness['healthy life expectancy']))"
      ],
      "execution_count": null,
      "outputs": [
        {
          "output_type": "display_data",
          "data": {
            "image/png": "[encoded data removed]",
            "text/plain": [
              "<Figure size 432x288 with 1 Axes>"
            ]
          },
          "metadata": {
            "tags": []
          }
        },
        {
          "output_type": "stream",
          "text": [
            "DescribeResult(nobs=153, minmax=(0.31945985600000004, 0.9746695759999999), mean=0.8087210684379086, variance=0.014750896171899059, skewness=-1.1543647176213423, kurtosis=1.2744239668666664)\n",
            "DescribeResult(nobs=153, minmax=(45.20000076, 76.80458069), mean=64.44552916509804, variance=49.81321322904635, skewness=-0.5472861352879743, kurtosis=-0.523414031010978)\n"
          ],
          "name": "stdout"
        }
      ]
    },
    {
      "cell_type": "code",
      "metadata": {
        "colab": {
          "base_uri": "https://localhost:8080/",
          "height": 285
        },
        "id": "P4OA4FMk0xo3",
        "outputId": "09e93b0d-3d00-4442-c37a-4d1d8d70e1ed"
      },
      "source": [
        "#make a scatterplot \n",
        "#this shows the relationship between social support and healthy life expectancy better than the histograms\n",
        "sns.scatterplot(x=\"social support\", y=\"healthy life expectancy\", data=happiness);"
      ],
      "execution_count": null,
      "outputs": [
        {
          "output_type": "display_data",
          "data": {
            "image/png": "[encoded data removed]",
            "text/plain": [
              "<Figure size 432x288 with 1 Axes>"
            ]
          },
          "metadata": {
            "tags": []
          }
        }
      ]
    },
    {
      "cell_type": "code",
      "metadata": {
        "colab": {
          "base_uri": "https://localhost:8080/",
          "height": 297
        },
        "id": "odB5rduVGBTy",
        "outputId": "7e473049-1185-480d-caef-dc0eb71945ae"
      },
      "source": [
        "happiness[['social support', 'healthy life expectancy']].describe()"
      ],
      "execution_count": null,
      "outputs": [
        {
          "output_type": "execute_result",
          "data": {
            "text/html": [
              "<div>\n",
              "<style scoped>\n",
              "    .dataframe tbody tr th:only-of-type {\n",
              "        vertical-align: middle;\n",
              "    }\n",
              "\n",
              "    .dataframe tbody tr th {\n",
              "        vertical-align: top;\n",
              "    }\n",
              "\n",
              "    .dataframe thead th {\n",
              "        text-align: right;\n",
              "    }\n",
              "</style>\n",
              "<table border=\"1\" class=\"dataframe\">\n",
              "  <thead>\n",
              "    <tr style=\"text-align: right;\">\n",
              "      <th></th>\n",
              "      <th>social support</th>\n",
              "      <th>healthy life expectancy</th>\n",
              "    </tr>\n",
              "  </thead>\n",
              "  <tbody>\n",
              "    <tr>\n",
              "      <th>count</th>\n",
              "      <td>153.000000</td>\n",
              "      <td>153.000000</td>\n",
              "    </tr>\n",
              "    <tr>\n",
              "      <th>mean</th>\n",
              "      <td>0.808721</td>\n",
              "      <td>64.445529</td>\n",
              "    </tr>\n",
              "    <tr>\n",
              "      <th>std</th>\n",
              "      <td>0.121453</td>\n",
              "      <td>7.057848</td>\n",
              "    </tr>\n",
              "    <tr>\n",
              "      <th>min</th>\n",
              "      <td>0.319460</td>\n",
              "      <td>45.200001</td>\n",
              "    </tr>\n",
              "    <tr>\n",
              "      <th>25%</th>\n",
              "      <td>0.737217</td>\n",
              "      <td>58.961712</td>\n",
              "    </tr>\n",
              "    <tr>\n",
              "      <th>50%</th>\n",
              "      <td>0.829204</td>\n",
              "      <td>66.305145</td>\n",
              "    </tr>\n",
              "    <tr>\n",
              "      <th>75%</th>\n",
              "      <td>0.906747</td>\n",
              "      <td>69.289192</td>\n",
              "    </tr>\n",
              "    <tr>\n",
              "      <th>max</th>\n",
              "      <td>0.974670</td>\n",
              "      <td>76.804581</td>\n",
              "    </tr>\n",
              "  </tbody>\n",
              "</table>\n",
              "</div>"
            ],
            "text/plain": [
              "       social support  healthy life expectancy\n",
              "count      153.000000               153.000000\n",
              "mean         0.808721                64.445529\n",
              "std          0.121453                 7.057848\n",
              "min          0.319460                45.200001\n",
              "25%          0.737217                58.961712\n",
              "50%          0.829204                66.305145\n",
              "75%          0.906747                69.289192\n",
              "max          0.974670                76.804581"
            ]
          },
          "metadata": {
            "tags": []
          },
          "execution_count": 37
        }
      ]
    },
    {
      "cell_type": "code",
      "metadata": {
        "colab": {
          "base_uri": "https://localhost:8080/"
        },
        "id": "laFYqW1vL_b2",
        "outputId": "d1807965-1b76-45c8-f204-1f76ac6cbdb9"
      },
      "source": [
        "stats.pearsonr(happiness['social support'], happiness['healthy life expectancy'])"
      ],
      "execution_count": null,
      "outputs": [
        {
          "output_type": "execute_result",
          "data": {
            "text/plain": [
              "(0.7427440895198049, 4.3086274863375165e-28)"
            ]
          },
          "metadata": {
            "tags": []
          },
          "execution_count": 8
        }
      ]
    },
    {
      "cell_type": "code",
      "metadata": {
        "colab": {
          "base_uri": "https://localhost:8080/"
        },
        "id": "JfZ8-5AuDRCe",
        "outputId": "5c0158da-9b0e-4148-fe4b-54a806af01f2"
      },
      "source": [
        "# Confidence interval\n",
        "\n",
        "\n",
        "def get_95_ci(array_1, array_2):\n",
        "    sample_1_n = array_1.shape[0]\n",
        "    sample_2_n = array_2.shape[0]\n",
        "    sample_1_mean = array_1.mean()\n",
        "    sample_2_mean = array_2.mean()\n",
        "    sample_1_var = array_1.var()\n",
        "    sample_2_var = array_2.var()\n",
        "    mean_difference = sample_2_mean - sample_1_mean\n",
        "    std_err_difference = math.sqrt((sample_1_var/sample_1_n)+(sample_2_var/sample_2_n))\n",
        "    margin_of_error = 1.96 * std_err_difference\n",
        "    ci_lower = mean_difference - margin_of_error\n",
        "    ci_upper = mean_difference + margin_of_error\n",
        "    return(\"The difference in means at the 95% confidence interval (two-tail) is between \"+str(ci_lower)+\" and \"+str(ci_upper)+\".\")\n",
        "\n",
        "print(get_95_ci(happiness['social support'], happiness['healthy life expectancy']))\n",
        "\n"
      ],
      "execution_count": null,
      "outputs": [
        {
          "output_type": "stream",
          "text": [
            "The difference in means at the 95% confidence interval (two-tail) is between 62.5182799233889 and 64.75533626993143.\n"
          ],
          "name": "stdout"
        }
      ]
    },
    {
      "cell_type": "markdown",
      "metadata": {
        "id": "vI2OcPVoIqIG"
      },
      "source": [
        "## 5. Results\n",
        "\n",
        "Based on a visual inspection, social support and healty life expectancy have a strong postive correlation. The higher the social support, the higher the healthy life expectancy. The r-value being .743 shows this positve relationship. From this, you can expect a signifciant correlation between these two variables to generalize out to the population. \n",
        "\n",
        "Therefore since the p-value is less than 5% we can conclude that it is statistically significant , we can reject the null hypothesis H_o and accept the alternative hypothesis H_a.\n",
        "\n",
        "The 95% confidence interval suggests that the difference in social support and healthy life expectancy is between 65 and 63. \n",
        "\n"
      ]
    },
    {
      "cell_type": "markdown",
      "metadata": {
        "id": "NYY9ouhdIrdA"
      },
      "source": [
        "## 6. Discussion and recommendation\n",
        "\n",
        "Social Support and Healthy life expectancy have a strong positive correlation. Which means that as perception of social support goes up so does the healthy life expectancy. Meaning that having a strong social support correlates to having a higher healthy life expectancy. \n",
        "\n",
        "\n",
        "This research has implicatons for stakeholders who work as policy makers to make decisions about social impacts on health  and why it is important to address the social needs of their constituents. Thus, helping governments to focus on cultivating a social environment that is suitable for encouraging the health and happiness of their nation. \n",
        "\n",
        "\n",
        "The question here though, is how does social support correlate with other variables like GDP or perecpetion of corruption or how does it relate to different groups in the population such as countries in a different geographical regions? Therefore, as a next step in the process, I will examine how social support and happiness differ based on geographical regions, then examine through A/B testing the results of how geography plays a role in happiness. "
      ]
    }
  ]
}